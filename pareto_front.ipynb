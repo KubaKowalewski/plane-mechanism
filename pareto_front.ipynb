{
 "cells": [
  {
   "cell_type": "code",
   "execution_count": 1,
   "metadata": {},
   "outputs": [
    {
     "name": "stdout",
     "output_type": "stream",
     "text": [
      "45 15 15 15\n"
     ]
    }
   ],
   "source": [
    "from src.Slm import slm\n",
    "import numpy as np\n",
    "import matplotlib.pyplot as plt\n",
    "import csv\n",
    "\n",
    "# Loading parmaters\n",
    "E = 200e9 # Elastic modulus (Pa)\n",
    "D = 1 # Diameter mm\n",
    "P = 7850 # Density (kg/m^3)\n",
    "F = [0,-1,0,0,0,0,0,0]\n",
    "\n",
    "# Simulation Parameters\n",
    "a = .1 # A link set constant here\n",
    "file_name = \"./results/simulation/pareto_front.csv\"\n",
    "\n",
    "# Create new file with column headers\n",
    "with open(file_name, 'w', newline='') as csvfile:\n",
    "    slm_writer = csv.writer(csvfile, delimiter=' ',\n",
    "            quotechar='|', quoting=csv.QUOTE_MINIMAL)\n",
    "    slm_writer.writerow([\"Rr\",\"Rf\",\"Rh\",\"Rw\",\"A\",\"k_max\",\"k_min\",\"Range\",\"Weight\",\"Height\"])\n",
    "\n",
    "step_size = a/10\n",
    "n = 15\n",
    "\n",
    "# System parameters for Class I\n",
    "rw_lower,rw_upper = 0.2*a,4*a\n",
    "rh_lower,rh_upper = -3*a,4*a\n",
    "s_lower,s_upper = -a,0  \n",
    "s_pad = 0.15*a # how far from singular point\n",
    "\n",
    "# Rhombus parameter range\n",
    "Rw_range = np.linspace(rw_lower,rw_upper,n)\n",
    "Rh_range = np.concatenate((np.linspace(rh_lower,s_lower-s_pad,n),\n",
    "            np.linspace(s_lower+s_pad,s_upper-s_pad,n),np.linspace(s_upper+s_pad,rh_upper,n)))\n",
    "\n",
    "# Reflection Ratio range\n",
    "Rr_range = np.linspace(1,4,n)\n",
    "Rr_range_rf = np.linspace(2.5,4,n)\n",
    "SLM = slm.mechanism(Rr=1,Rf=False,A=1,Rh=3,Rw=1)\n",
    "\n",
    "# Collects and writes properties of mechanisms\n",
    "def write_properties(Rr,Rf,A,Rh,Rw):\n",
    "    try:\n",
    "        SLM.update_links(Rr,Rf,A=A,Rh=Rh,Rw=Rw)\n",
    "        k_max,k_min,range,weight,height = SLM.find_system_properties(F,E,D,P)\n",
    "        with open(file_name, 'a', newline='') as csvfile:\n",
    "            slm_writer = csv.writer(csvfile, delimiter=' ',\n",
    "                    quotechar='|', quoting=csv.QUOTE_MINIMAL)\n",
    "            slm_writer.writerow([Rr,Rf,Rh,Rw,A,k_max,k_min,range,weight,height])\n",
    "    except Exception as e: print(\"Error encountered:\",e)\n",
    "\n",
    "print(len(Rh_range),len(Rw_range),len(Rr_range),len(Rr_range_rf))\n",
    "\n",
    "# Full Mechanism Sweep\n",
    "for Rh in Rh_range:\n",
    "    for Rw in Rw_range:\n",
    "        Rf = False\n",
    "        for Rr in Rr_range:\n",
    "            if Rr*Rw < rw_upper: write_properties(Rr,Rf,a,Rh,Rw)\n",
    "        Rf = True\n",
    "        for Rr in Rr_range_rf:\n",
    "            if Rr*Rw < rw_upper: write_properties(Rr,Rf,a,Rh,Rw)"
   ]
  }
 ],
 "metadata": {
  "interpreter": {
   "hash": "57378116e79fd4f5df165e68e786407af3296b03a4cd07a42159263ae05bdcd0"
  },
  "kernelspec": {
   "display_name": "Python 3.7.3 64-bit",
   "language": "python",
   "name": "python3"
  },
  "language_info": {
   "codemirror_mode": {
    "name": "ipython",
    "version": 3
   },
   "file_extension": ".py",
   "mimetype": "text/x-python",
   "name": "python",
   "nbconvert_exporter": "python",
   "pygments_lexer": "ipython3",
   "version": "3.7.3"
  },
  "orig_nbformat": 4
 },
 "nbformat": 4,
 "nbformat_minor": 2
}
