{
 "cells": [
  {
   "cell_type": "code",
   "execution_count": 1,
   "metadata": {},
   "outputs": [
    {
     "name": "stdout",
     "output_type": "stream",
     "text": [
      "30 80 30\n"
     ]
    }
   ],
   "source": [
    "from src.Slm import slm\n",
    "import numpy as np\n",
    "import matplotlib.pyplot as plt\n",
    "import csv\n",
    "\n",
    "# Loading parmaters\n",
    "E = 200e9 # Elastic modulus (Pa)\n",
    "D = 1*10e-3 # Diameter mm\n",
    "P = 7850 # Density (kg/m^3)\n",
    "F = [0,-1,0,0,0,0,0,0]\n",
    "\n",
    "# Mechanism Parameters\n",
    "a0 = .1\n",
    "Rw0 = a0/2\n",
    "Rh0 = (a0/2)*np.sqrt(3)\n",
    "Rr0 = 1\n",
    "Rf0 = False\n",
    "\n",
    "# Simulation parameters\n",
    "step_size = a0/10\n",
    "Rr_count = 30\n",
    "\n",
    "# Path to csv results\n",
    "file_name = \"./results/simulation/sim_results4.csv\"\n",
    "\n",
    "# Create new file with column headers\n",
    "with open(file_name, 'w', newline='') as csvfile:\n",
    "    slm_writer = csv.writer(csvfile, delimiter=' ',\n",
    "            quotechar='|', quoting=csv.QUOTE_MINIMAL)\n",
    "    slm_writer.writerow([\"Rr\",\"Rf\",\"Rh\",\"Rw\",\"A\",\"k_max\",\"k_min\",\"Range\",\"Mass\"])\n",
    "\n",
    "# Define ranges to sweep through in simulation\n",
    "Rh_range = np.arange(0.1*a0,3*a0,step_size)\n",
    "Rw_range = np.arange(-5*a0,3*a0,step_size)\n",
    "Rr_range = np.linspace(0.2,1,Rr_count)\n",
    "\n",
    "# Normalizes system properties based on linkage values\n",
    "def normailize_properties(k_max,k_min,range,mass):\n",
    "    return (k_max*a0)/(D**2),(k_min*a0)/(D**2),(range/a0),(mass/(D**2*a0))\n",
    "\n",
    "# Collects and writes properties of mechanisms\n",
    "def write_properties(SLM,Rr,Rf,A,Rh,Rw):\n",
    "    try:\n",
    "        SLM.update_links(Rr,Rf,A=A,Rh=Rh,Rw=Rw)\n",
    "        k_max,k_min,range,mass = SLM.find_system_properties(F,E,D,P)\n",
    "        k_max,k_min,range,mass = normailize_properties(k_max,k_min,range,mass)\n",
    "        with open(file_name, 'a', newline='') as csvfile:\n",
    "            slm_writer = csv.writer(csvfile, delimiter=' ',\n",
    "                    quotechar='|', quoting=csv.QUOTE_MINIMAL)\n",
    "            slm_writer.writerow([Rr,Rf,Rh,Rw,A,k_max,k_min,range,mass])\n",
    "        return k_max,k_min,range,mass\n",
    "    except Exception as e: print(\"Error encountered:\",e,\"Params:\",Rr,Rf,A,Rh,Rw)\n",
    "\n",
    "print(len(Rh_range),len(Rw_range),len(Rr_range))\n",
    "\n",
    "# Simulate mechanism across full design space\n",
    "def full_sweep():\n",
    "    # Define base mechanism\n",
    "    SLM = slm.mechanism(Rr=Rr0,Rf=False,A=a0,Rh=Rh0,Rw=Rw0)\n",
    "    # Full Mechanism Sweep\n",
    "    for Rh in Rh_range:\n",
    "        for Rw in Rw_range:\n",
    "            for Rr in Rr_range:\n",
    "                if not (Rw<0.1*a0 and Rw>-0.1*a0) and not (Rw<-.9*a0 and Rw>-1.1*a0):\n",
    "                    Rf = False\n",
    "                    write_properties(SLM,Rr,Rf,a0,Rh,Rw)\n",
    "                    if Rr != 1:\n",
    "                        Rf = True\n",
    "                        write_properties(SLM,Rr,Rf,a0,Rh,Rw)\n",
    "\n",
    "\n",
    "# Run simulation\n",
    "full_sweep()"
   ]
  }
 ],
 "metadata": {
  "kernelspec": {
   "display_name": "Python 3.10.7 ('env': venv)",
   "language": "python",
   "name": "python3"
  },
  "language_info": {
   "codemirror_mode": {
    "name": "ipython",
    "version": 3
   },
   "file_extension": ".py",
   "mimetype": "text/x-python",
   "name": "python",
   "nbconvert_exporter": "python",
   "pygments_lexer": "ipython3",
   "version": "3.10.7"
  },
  "orig_nbformat": 4,
  "vscode": {
   "interpreter": {
    "hash": "2e4192ccd0c4815e202d751aba105c64664c5658d66b839c4f5ca62f3fd7e015"
   }
  }
 },
 "nbformat": 4,
 "nbformat_minor": 2
}
