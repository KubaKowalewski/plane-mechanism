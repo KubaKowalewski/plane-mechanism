{
 "cells": [
  {
   "cell_type": "code",
   "execution_count": 1,
   "metadata": {},
   "outputs": [
    {
     "name": "stdout",
     "output_type": "stream",
     "text": [
      "[1 4 9]\n"
     ]
    }
   ],
   "source": [
    "import numpy as np\n",
    "# from sklearn.linear_model import LinearRegression\n",
    "# from sklearn.metrics import r2_score, mean_squared_error\n",
    "\n",
    "# y1 = np.array([1,1.3,1.4,.9,.8])\n",
    "# y2 = y1 + 1000\n",
    "# x = np.array(range(0,len(y1))).reshape(-1,1)\n",
    "\n",
    "\n",
    "# model1 = LinearRegression().fit(x, y1)\n",
    "# model2 = LinearRegression().fit(x, y2)\n",
    "\n",
    "# y1_p = model1.predict(x)\n",
    "# y2_p = model2.predict(x)\n",
    "\n",
    "# mse1 = mean_squared_error(y1,y1_p)\n",
    "# mse2 = mean_squared_error(y2,y2_p)\n",
    "\n",
    "# print(mse1,mse2)\n",
    "\n",
    "# a = dict()\n",
    "# a[1] = 1\n",
    "# print(len(a))\n",
    "# a = np.array([1,2,3])\n",
    "# b = np.array([1,2,3])\n",
    "# print(np.array(list(zip(a,b))))\n",
    "# STEP_SIZE = 0.05\n",
    "# # Delta arrays\n",
    "# delA = STEP_SIZE*np.array([[0,1],[1,0]])\n",
    "# delB = STEP_SIZE*np.array([[1,1,0,0],[0,0,1,1]])\n",
    "# print(delA,delB)\n",
    "\n",
    "A = np.array([1,2,3])\n",
    "print(A**2)"
   ]
  }
 ],
 "metadata": {
  "interpreter": {
   "hash": "57378116e79fd4f5df165e68e786407af3296b03a4cd07a42159263ae05bdcd0"
  },
  "kernelspec": {
   "display_name": "Python 3.7.3 64-bit",
   "language": "python",
   "name": "python3"
  },
  "language_info": {
   "codemirror_mode": {
    "name": "ipython",
    "version": 3
   },
   "file_extension": ".py",
   "mimetype": "text/x-python",
   "name": "python",
   "nbconvert_exporter": "python",
   "pygments_lexer": "ipython3",
   "version": "3.7.3"
  },
  "orig_nbformat": 4
 },
 "nbformat": 4,
 "nbformat_minor": 2
}
